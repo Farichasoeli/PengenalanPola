{
 "cells": [
  {
   "cell_type": "markdown",
   "metadata": {},
   "source": [
    "# Pengenalan Pola\n",
    "\n",
    "## Tugas 1: Model Probabilistik untuk Klasifikasi Gambar\n",
    "\n",
    "### Mekanisme\n",
    "\n",
    "Anda hanya diwajibkan untuk mengumpulkan file ini saja ke uploader yang disediakan di http://elearning2.uai.ac.id/. Ganti nama file ini saat pengumpulan menjadi **tugas1_NIM.ipynb**.\n",
    "\n",
    "**Keterlambatan**: Pengumpulan tugas yang melebihi tenggat yang telah ditentukan tidak akan diterima. Keterlambatan akan berakibat pada nilai nol untuk tugas ini.\n",
    "\n",
    "**Kolaborasi**: Anda diperbolehkan untuk berdiskusi dengan teman Anda, tetapi dilarang keras menyalin kode maupun tulisan dari teman Anda.\n",
    "\n",
    "### Petunjuk\n",
    "\n",
    "Terdapat enam packages yang Anda akan gunakan dalam mengerjakan tugas ini, yaitu:\n",
    "\n",
    "- matplotlib\n",
    "- numpy\n",
    "- pandas\n",
    "- scipy\n",
    "- seaborn\n",
    "- scikit-learn\n",
    "\n",
    "Anda diperbolehkan (jika dirasa perlu) untuk mengimpor modul tambahan untuk tugas ini, kecuali dijelaskan sebaliknya. Namun, seharusnya modul yang tersedia sudah cukup untuk memenuhi kebutuhan Anda.\n",
    "\n",
    "Pastikan jawaban Anda singkat, padat, dan jelas. Mayoritas pertanyaan yang diberikan dapat dijawab dalam 3-4 kalimat saja."
   ]
  },
  {
   "cell_type": "markdown",
   "metadata": {},
   "source": [
    "**Nilai akhir: XX/60**"
   ]
  },
  {
   "cell_type": "code",
   "execution_count": null,
   "metadata": {},
   "outputs": [],
   "source": [
    "import mnist_reader\n",
    "import matplotlib.pyplot as plt\n",
    "import numpy as np\n",
    "import pandas as pd\n",
    "import seaborn as sns\n",
    "\n",
    "%matplotlib inline"
   ]
  },
  {
   "cell_type": "code",
   "execution_count": null,
   "metadata": {},
   "outputs": [],
   "source": [
    "X_train, y_train = mnist_reader.load_mnist('../datasets', kind='train')\n",
    "X_test, y_test = mnist_reader.load_mnist('../datasets', kind='t10k')"
   ]
  },
  {
   "cell_type": "markdown",
   "metadata": {},
   "source": [
    "### Deskripsi Dataset\n",
    "\n",
    "Dalam tugas ini, Anda diminta mengeksplorasi data gambar pakaian yang telah disesuaikan seperti kasus MNIST. Data ini dikenal dengan nama [Fashion-MNIST](https://github.com/zalandoresearch/fashion-mnist). Gambar-gambar ini berukuran 28x28 dalam *grayscale*. Keterangan lebih lengkap tentang data ini dapat dilihat di:\n",
    "\n",
    "**Fashion-MNIST: a Novel Image Dataset for Benchmarking Machine Learning Algorithms. Han Xiao, Kashif Rasul, Roland Vollgraf. [arXiv:1708.07747](http://arxiv.org/abs/1708.07747)**"
   ]
  },
  {
   "cell_type": "markdown",
   "metadata": {},
   "source": [
    "## 1. Eksplorasi Dataset\n",
    "\n",
    "Sebelum memulai melakukan pemodelan, ada baiknya bagi Anda untuk melakukan eskplorasi data dengan bantuan visualisasi."
   ]
  },
  {
   "cell_type": "markdown",
   "metadata": {},
   "source": [
    "### Soal 1.1 (3 poin)\n",
    "\n",
    "Visualisasikan 10 gambar pertama dalam `X_train`."
   ]
  },
  {
   "cell_type": "code",
   "execution_count": null,
   "metadata": {},
   "outputs": [],
   "source": []
  },
  {
   "cell_type": "markdown",
   "metadata": {},
   "source": [
    "### Soal 1.2 (4 poin)\n",
    "\n",
    "Data fashion-mnist punya 10 kelas. Coba gambarkan gambar rata-rata untuk tiap kelas, i.e. nilai pixel di posisi yang sama dirata-rata untuk seluruh gambar yang ada dalam kelas tersebut.\n",
    "\n",
    "*Petunjuk: Gunakan konsep masking.*"
   ]
  },
  {
   "cell_type": "code",
   "execution_count": null,
   "metadata": {},
   "outputs": [],
   "source": []
  },
  {
   "cell_type": "markdown",
   "metadata": {},
   "source": [
    "### Soal 1.3.a (3 poin)\n",
    "\n",
    "Gambarkan [KDE plot](https://seaborn.pydata.org/generated/seaborn.kdeplot.html) yang dicocokkan dengan nilai pixel pada posisi (5,5) dari objek-objek dalam tiap kelas. Atur agar limit sumbu x adalah [0,255]."
   ]
  },
  {
   "cell_type": "code",
   "execution_count": null,
   "metadata": {},
   "outputs": [],
   "source": []
  },
  {
   "cell_type": "markdown",
   "metadata": {},
   "source": [
    "### Soal 1.3.b (2 poin)\n",
    "\n",
    "Pada dasarnya KDE plot adalah estimasi distribusi dalam bentuk kontinu dari histogram yang dihasilkan. Apa yang dapat Anda perhatikan dari distribusi yang terbentuk pada soal 1.3.a?"
   ]
  },
  {
   "cell_type": "markdown",
   "metadata": {},
   "source": [
    "*Jawaban Anda di sini*"
   ]
  },
  {
   "cell_type": "markdown",
   "metadata": {},
   "source": [
    "### Soal 1.4.a (4 poin)\n",
    "\n",
    "Mari kita sederhanakan kasusnya sejenak. Ambil pixel pada posisi (5,5) dari objek-objek dalam kelas 0 dan 8 (kelas t-shirt dan tas). Gambarkan **histogram** dari objek-objek dalam masing-masing kelas tersebut. Lalu, cocokkan distribusi Gaussian ke masing-masing histogram tersebut. Warnai MLE dari Gaussian tersebut sesuai dengan warna histogram dari kelas yang dicocokkan.\n",
    "\n",
    "*Petunjuk: Gunakan `sns.distplot()` untuk menggambar histogramnya.*"
   ]
  },
  {
   "cell_type": "code",
   "execution_count": null,
   "metadata": {},
   "outputs": [],
   "source": [
    "from scipy.stats import norm"
   ]
  },
  {
   "cell_type": "markdown",
   "metadata": {},
   "source": [
    "### Soal 1.4.b (2 poin)\n",
    "\n",
    "Gambarkan grafik dengan ketentuan seperti pada soal 1.4.a, tetapi kali ini gunakan pixel (20,20)."
   ]
  },
  {
   "cell_type": "code",
   "execution_count": null,
   "metadata": {},
   "outputs": [],
   "source": []
  },
  {
   "cell_type": "markdown",
   "metadata": {},
   "source": [
    "### Soal 1.5.a (2 poin)\n",
    "\n",
    "Gambarkan scatter plot dari nilai pixel di posisi (5,5) dan (20,20) untuk kelas 0 dan 8. Bedakan antara titik dari kelas 0 dan 8."
   ]
  },
  {
   "cell_type": "code",
   "execution_count": null,
   "metadata": {},
   "outputs": [],
   "source": []
  },
  {
   "cell_type": "markdown",
   "metadata": {},
   "source": [
    "### Soal 1.5.b (5 poin)\n",
    "\n",
    "Gambarkan contour plot dari bivariate Gaussian dengan atribut pixel (5,5) dan (20,20) untuk kelas 0 dan 8. Jangan lupa untuk menggunakan *full covariance matrix*."
   ]
  },
  {
   "cell_type": "code",
   "execution_count": null,
   "metadata": {},
   "outputs": [],
   "source": [
    "from matplotlib.mlab import bivariate_normal"
   ]
  },
  {
   "cell_type": "markdown",
   "metadata": {},
   "source": [
    "### Soal 1.6 (5 poin)\n",
    "\n",
    "Berikan kesimpulan dari eksplorasi yang telah Anda lakukan sejauh ini."
   ]
  },
  {
   "cell_type": "markdown",
   "metadata": {},
   "source": [
    "*Jawaban Anda di sini*"
   ]
  },
  {
   "cell_type": "markdown",
   "metadata": {},
   "source": [
    "## 2. Model Selection\n",
    "\n",
    "Kita akan mencoba menghitung likelihood dari salah satu atribut dalam data."
   ]
  },
  {
   "cell_type": "markdown",
   "metadata": {},
   "source": [
    "### Soal 2.1 (2 poin)\n",
    "\n",
    "Ambil nilai pixel (20,20) dari objek-objek dalam kelas 0 (t-shirt). Gambarkan kembali histogramnya."
   ]
  },
  {
   "cell_type": "code",
   "execution_count": null,
   "metadata": {},
   "outputs": [],
   "source": []
  },
  {
   "cell_type": "markdown",
   "metadata": {},
   "source": [
    "### Soal 2.2.a (8 poin)\n",
    "\n",
    "Kita akan mengasumsikan dua model yang mungkin pada data soal 2.1, yaitu:\n",
    "\n",
    "- $\\mathcal{M} = 1$ - dari distribusi uniform dengan $\\alpha=0$ dan $\\beta=255$\n",
    "- $\\mathcal{M} = 2$ - dari distribusi normal dengan $\\mu = 125$ dan $\\sigma^2 = 6095$\n",
    "\n",
    "Lengkapi dan isi rumus log-likelihood untuk model 1 dan 2 di bawah ini, lalu hitunglah log-likelihood dari kedua model tersebut.\n",
    "\n",
    "*Sanity check: Nilai log-likelihood $\\leq 0$*\n",
    "\n",
    "*Petunjuk: Gunakan [situs ini](https://www.codecogs.com/latex/eqneditor.php) untuk membantu menulis persamaan dalam LaTeX.*"
   ]
  },
  {
   "cell_type": "markdown",
   "metadata": {},
   "source": [
    "Untuk model 1:\n",
    "\n",
    "\\begin{align*}\n",
    "L(\\mathcal{M}_1) &= \\prod_{i=1}^{N} p(x_i|\\alpha,\\beta) \\\\\n",
    "\\end{align*}\n",
    "\n",
    "Untuk model 2:\n",
    "\n",
    "\\begin{align*}\n",
    "L(\\mathcal{M}_2) &= \\prod_{i=1}^{N} p(x_i|\\mu,\\sigma^2) \\\\\n",
    "\\end{align*}"
   ]
  },
  {
   "cell_type": "code",
   "execution_count": null,
   "metadata": {},
   "outputs": [],
   "source": []
  },
  {
   "cell_type": "markdown",
   "metadata": {},
   "source": [
    "### Soal 2.2.b (2 poin)\n",
    "\n",
    "Berdasarkan kedua perhitungan pada soal 2.2.a, model mana yang lebih cocok menggambarkan data? Mengapa?"
   ]
  },
  {
   "cell_type": "markdown",
   "metadata": {},
   "source": [
    "*Jawaban Anda di sini*"
   ]
  },
  {
   "cell_type": "markdown",
   "metadata": {},
   "source": [
    "### Soal 2.3.a (4 poin)\n",
    "\n",
    "Hitung log-likelihood dari distribusi Gaussian dengan $\\mu \\in [101,150]$ dan $\\sigma = 78$. Gambarkan nilainya dalam line plot. Jangan lupa untuk memberikan label pada sumbu-sumbunya."
   ]
  },
  {
   "cell_type": "code",
   "execution_count": null,
   "metadata": {},
   "outputs": [],
   "source": []
  },
  {
   "cell_type": "markdown",
   "metadata": {},
   "source": [
    "### Soal 2.3.b (1 poin)\n",
    "\n",
    "Berapa nilai $\\mu$ dari soal 2.3.a yang memaksimalkan nilai log-likelihood-nya?"
   ]
  },
  {
   "cell_type": "code",
   "execution_count": null,
   "metadata": {},
   "outputs": [],
   "source": []
  },
  {
   "cell_type": "markdown",
   "metadata": {},
   "source": [
    "### Soal 2.4 (3 poin)\n",
    "\n",
    "Berikan kesimpulan yang Anda dapatkan dari bagian ini."
   ]
  },
  {
   "cell_type": "markdown",
   "metadata": {},
   "source": [
    "*Jawaban Anda di sini*"
   ]
  },
  {
   "cell_type": "markdown",
   "metadata": {},
   "source": [
    "## 3. Naive Bayes\n",
    "\n",
    "Apakah algoritma Naive Bayes bisa menghasilkan akurasi yang cukup baik dalam kasus ini?"
   ]
  },
  {
   "cell_type": "code",
   "execution_count": null,
   "metadata": {},
   "outputs": [],
   "source": [
    "from sklearn.dummy import DummyClassifier\n",
    "from sklearn.naive_bayes import GaussianNB\n",
    "from sklearn.metrics import accuracy_score, confusion_matrix"
   ]
  },
  {
   "cell_type": "markdown",
   "metadata": {},
   "source": [
    "### Soal 3.1 (4 poin)\n",
    "\n",
    "Coba latih model Gaussian Naive Bayes pada data latih dengan menggunakan modul dari scikit-learn. Lalu, prediksi kelas dari `X_test`. Hitung akurasi dari model yang dihasilkan dan gambarkan heatmap dari *confusion matrix* yang dihasilkan."
   ]
  },
  {
   "cell_type": "code",
   "execution_count": null,
   "metadata": {},
   "outputs": [],
   "source": []
  },
  {
   "cell_type": "markdown",
   "metadata": {},
   "source": [
    "### Soal 3.2 (2 poin)\n",
    "\n",
    "Seberapa baik kah hasil yang kita dapatkan di soal 3.1? Coba buat perbandingan dengan menggunakan [`DummyClassifier`](http://scikit-learn.org/stable/modules/generated/sklearn.dummy.DummyClassifier.html). Hitung akurasinya dan gambarkan heatmap dari *confusion matrix*-nya.\n",
    "\n",
    "*Petunjuk: Jika kode Anda pada 3.1 benar, maka hanya ada satu baris yang perlu diganti.*"
   ]
  },
  {
   "cell_type": "code",
   "execution_count": null,
   "metadata": {},
   "outputs": [],
   "source": []
  },
  {
   "cell_type": "markdown",
   "metadata": {},
   "source": [
    "### Soal 3.3 (4 poin)\n",
    "\n",
    "Berikan kesimpulan Anda dari keseluruhan eksplorasi yang Anda lakukan pada tugas ini. Kira-kira, apa yang bisa dilakukan untuk meningkatkan hasil dari model Naive Bayes?"
   ]
  },
  {
   "cell_type": "markdown",
   "metadata": {},
   "source": [
    "*Jawaban Anda di sini*"
   ]
  }
 ],
 "metadata": {
  "kernelspec": {
   "display_name": "Python 3",
   "language": "python",
   "name": "python3"
  },
  "language_info": {
   "codemirror_mode": {
    "name": "ipython",
    "version": 3
   },
   "file_extension": ".py",
   "mimetype": "text/x-python",
   "name": "python",
   "nbconvert_exporter": "python",
   "pygments_lexer": "ipython3",
   "version": "3.6.2"
  }
 },
 "nbformat": 4,
 "nbformat_minor": 2
}
